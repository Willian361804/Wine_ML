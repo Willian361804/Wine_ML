{
 "cells": [
  {
   "cell_type": "markdown",
   "metadata": {},
   "source": [
    "## Aquisição e leitura dos dados"
   ]
  },
  {
   "cell_type": "code",
   "execution_count": 1,
   "metadata": {},
   "outputs": [],
   "source": [
    "# Carregando os pacotes\n",
    "import pandas as pd\n",
    "import numpy as np\n",
    "import matplotlib.pyplot as plt\n",
    "import seaborn as sns\n",
    "import sklearn"
   ]
  },
  {
   "cell_type": "code",
   "execution_count": 2,
   "metadata": {},
   "outputs": [],
   "source": [
    "# Leitura dos dados\n",
    "df = pd.read_csv('vinhos.csv')"
   ]
  },
  {
   "cell_type": "markdown",
   "metadata": {},
   "source": [
    "## Análise exploratória"
   ]
  },
  {
   "cell_type": "code",
   "execution_count": 3,
   "metadata": {
    "collapsed": true
   },
   "outputs": [
    {
     "data": {
      "text/plain": [
       "acidez_fixa                     float64\n",
       "acidez_volatil                  float64\n",
       "acido_citrico                   float64\n",
       "concentracao_residual_acucar    float64\n",
       "cloretos                        float64\n",
       "dioxido_de_enxofre_livre        float64\n",
       "dioxido_de_enxofre_total        float64\n",
       "densidade                       float64\n",
       "pH                              float64\n",
       "sulfatos                        float64\n",
       "alcool                          float64\n",
       "qualidade                         int64\n",
       "tipo                             object\n",
       "dtype: object"
      ]
     },
     "execution_count": 3,
     "metadata": {},
     "output_type": "execute_result"
    }
   ],
   "source": [
    "#Lista do nome e do tipo das colunas\n",
    "df.dtypes"
   ]
  },
  {
   "cell_type": "code",
   "execution_count": 4,
   "metadata": {
    "collapsed": true
   },
   "outputs": [
    {
     "data": {
      "text/plain": [
       "(3000, 13)"
      ]
     },
     "execution_count": 4,
     "metadata": {},
     "output_type": "execute_result"
    }
   ],
   "source": [
    "# Observando o número de linhas e colunas da base\n",
    "df.shape"
   ]
  },
  {
   "cell_type": "code",
   "execution_count": 5,
   "metadata": {
    "collapsed": true
   },
   "outputs": [
    {
     "data": {
      "text/html": [
       "<div>\n",
       "<style scoped>\n",
       "    .dataframe tbody tr th:only-of-type {\n",
       "        vertical-align: middle;\n",
       "    }\n",
       "\n",
       "    .dataframe tbody tr th {\n",
       "        vertical-align: top;\n",
       "    }\n",
       "\n",
       "    .dataframe thead th {\n",
       "        text-align: right;\n",
       "    }\n",
       "</style>\n",
       "<table border=\"1\" class=\"dataframe\">\n",
       "  <thead>\n",
       "    <tr style=\"text-align: right;\">\n",
       "      <th></th>\n",
       "      <th>acidez_fixa</th>\n",
       "      <th>acidez_volatil</th>\n",
       "      <th>acido_citrico</th>\n",
       "      <th>concentracao_residual_acucar</th>\n",
       "      <th>cloretos</th>\n",
       "      <th>dioxido_de_enxofre_livre</th>\n",
       "      <th>dioxido_de_enxofre_total</th>\n",
       "      <th>densidade</th>\n",
       "      <th>pH</th>\n",
       "      <th>sulfatos</th>\n",
       "      <th>alcool</th>\n",
       "      <th>qualidade</th>\n",
       "      <th>tipo</th>\n",
       "    </tr>\n",
       "  </thead>\n",
       "  <tbody>\n",
       "    <tr>\n",
       "      <th>2995</th>\n",
       "      <td>6.6</td>\n",
       "      <td>0.310</td>\n",
       "      <td>0.07</td>\n",
       "      <td>1.5</td>\n",
       "      <td>0.033</td>\n",
       "      <td>55.0</td>\n",
       "      <td>144.0</td>\n",
       "      <td>0.99208</td>\n",
       "      <td>3.16</td>\n",
       "      <td>0.42</td>\n",
       "      <td>10.0</td>\n",
       "      <td>5</td>\n",
       "      <td>branco</td>\n",
       "    </tr>\n",
       "    <tr>\n",
       "      <th>2996</th>\n",
       "      <td>6.2</td>\n",
       "      <td>0.240</td>\n",
       "      <td>0.27</td>\n",
       "      <td>2.9</td>\n",
       "      <td>0.039</td>\n",
       "      <td>30.0</td>\n",
       "      <td>123.0</td>\n",
       "      <td>0.98959</td>\n",
       "      <td>3.12</td>\n",
       "      <td>0.37</td>\n",
       "      <td>12.8</td>\n",
       "      <td>6</td>\n",
       "      <td>branco</td>\n",
       "    </tr>\n",
       "    <tr>\n",
       "      <th>2997</th>\n",
       "      <td>5.1</td>\n",
       "      <td>0.350</td>\n",
       "      <td>0.26</td>\n",
       "      <td>6.8</td>\n",
       "      <td>0.034</td>\n",
       "      <td>36.0</td>\n",
       "      <td>120.0</td>\n",
       "      <td>0.99188</td>\n",
       "      <td>3.38</td>\n",
       "      <td>0.40</td>\n",
       "      <td>11.5</td>\n",
       "      <td>6</td>\n",
       "      <td>branco</td>\n",
       "    </tr>\n",
       "    <tr>\n",
       "      <th>2998</th>\n",
       "      <td>8.0</td>\n",
       "      <td>0.450</td>\n",
       "      <td>0.28</td>\n",
       "      <td>10.8</td>\n",
       "      <td>0.051</td>\n",
       "      <td>25.0</td>\n",
       "      <td>157.0</td>\n",
       "      <td>0.99570</td>\n",
       "      <td>3.06</td>\n",
       "      <td>0.47</td>\n",
       "      <td>11.4</td>\n",
       "      <td>7</td>\n",
       "      <td>branco</td>\n",
       "    </tr>\n",
       "    <tr>\n",
       "      <th>2999</th>\n",
       "      <td>7.4</td>\n",
       "      <td>0.105</td>\n",
       "      <td>0.34</td>\n",
       "      <td>12.2</td>\n",
       "      <td>0.050</td>\n",
       "      <td>57.0</td>\n",
       "      <td>146.0</td>\n",
       "      <td>0.99730</td>\n",
       "      <td>3.16</td>\n",
       "      <td>0.37</td>\n",
       "      <td>9.0</td>\n",
       "      <td>6</td>\n",
       "      <td>branco</td>\n",
       "    </tr>\n",
       "  </tbody>\n",
       "</table>\n",
       "</div>"
      ],
      "text/plain": [
       "      acidez_fixa  acidez_volatil  acido_citrico  \\\n",
       "2995          6.6           0.310           0.07   \n",
       "2996          6.2           0.240           0.27   \n",
       "2997          5.1           0.350           0.26   \n",
       "2998          8.0           0.450           0.28   \n",
       "2999          7.4           0.105           0.34   \n",
       "\n",
       "      concentracao_residual_acucar  cloretos  dioxido_de_enxofre_livre  \\\n",
       "2995                           1.5     0.033                      55.0   \n",
       "2996                           2.9     0.039                      30.0   \n",
       "2997                           6.8     0.034                      36.0   \n",
       "2998                          10.8     0.051                      25.0   \n",
       "2999                          12.2     0.050                      57.0   \n",
       "\n",
       "      dioxido_de_enxofre_total  densidade    pH  sulfatos  alcool  qualidade  \\\n",
       "2995                     144.0    0.99208  3.16      0.42    10.0          5   \n",
       "2996                     123.0    0.98959  3.12      0.37    12.8          6   \n",
       "2997                     120.0    0.99188  3.38      0.40    11.5          6   \n",
       "2998                     157.0    0.99570  3.06      0.47    11.4          7   \n",
       "2999                     146.0    0.99730  3.16      0.37     9.0          6   \n",
       "\n",
       "        tipo  \n",
       "2995  branco  \n",
       "2996  branco  \n",
       "2997  branco  \n",
       "2998  branco  \n",
       "2999  branco  "
      ]
     },
     "execution_count": 5,
     "metadata": {},
     "output_type": "execute_result"
    }
   ],
   "source": [
    "#Linhas iniciais e finais da base\n",
    "df.head()\n",
    "df.tail()"
   ]
  },
  {
   "cell_type": "code",
   "execution_count": 6,
   "metadata": {
    "collapsed": true
   },
   "outputs": [
    {
     "data": {
      "text/html": [
       "<div>\n",
       "<style scoped>\n",
       "    .dataframe tbody tr th:only-of-type {\n",
       "        vertical-align: middle;\n",
       "    }\n",
       "\n",
       "    .dataframe tbody tr th {\n",
       "        vertical-align: top;\n",
       "    }\n",
       "\n",
       "    .dataframe thead th {\n",
       "        text-align: right;\n",
       "    }\n",
       "</style>\n",
       "<table border=\"1\" class=\"dataframe\">\n",
       "  <thead>\n",
       "    <tr style=\"text-align: right;\">\n",
       "      <th></th>\n",
       "      <th>acidez_fixa</th>\n",
       "      <th>acidez_volatil</th>\n",
       "      <th>acido_citrico</th>\n",
       "      <th>concentracao_residual_acucar</th>\n",
       "      <th>cloretos</th>\n",
       "      <th>dioxido_de_enxofre_livre</th>\n",
       "      <th>dioxido_de_enxofre_total</th>\n",
       "      <th>densidade</th>\n",
       "      <th>pH</th>\n",
       "      <th>sulfatos</th>\n",
       "      <th>alcool</th>\n",
       "      <th>qualidade</th>\n",
       "    </tr>\n",
       "  </thead>\n",
       "  <tbody>\n",
       "    <tr>\n",
       "      <th>count</th>\n",
       "      <td>3000.000000</td>\n",
       "      <td>3000.000000</td>\n",
       "      <td>3000.000000</td>\n",
       "      <td>3000.000000</td>\n",
       "      <td>3000.000000</td>\n",
       "      <td>3000.000000</td>\n",
       "      <td>3000.000000</td>\n",
       "      <td>3000.000000</td>\n",
       "      <td>3000.000000</td>\n",
       "      <td>3000.000000</td>\n",
       "      <td>3000.000000</td>\n",
       "      <td>3000.000000</td>\n",
       "    </tr>\n",
       "    <tr>\n",
       "      <th>mean</th>\n",
       "      <td>7.575400</td>\n",
       "      <td>0.404197</td>\n",
       "      <td>0.300483</td>\n",
       "      <td>4.510533</td>\n",
       "      <td>0.066739</td>\n",
       "      <td>25.414333</td>\n",
       "      <td>92.187833</td>\n",
       "      <td>0.995376</td>\n",
       "      <td>3.248700</td>\n",
       "      <td>0.572683</td>\n",
       "      <td>10.484184</td>\n",
       "      <td>5.747667</td>\n",
       "    </tr>\n",
       "    <tr>\n",
       "      <th>std</th>\n",
       "      <td>1.556448</td>\n",
       "      <td>0.191077</td>\n",
       "      <td>0.164065</td>\n",
       "      <td>4.163818</td>\n",
       "      <td>0.042893</td>\n",
       "      <td>17.341974</td>\n",
       "      <td>59.689784</td>\n",
       "      <td>0.002828</td>\n",
       "      <td>0.162437</td>\n",
       "      <td>0.169422</td>\n",
       "      <td>1.160437</td>\n",
       "      <td>0.860373</td>\n",
       "    </tr>\n",
       "    <tr>\n",
       "      <th>min</th>\n",
       "      <td>3.800000</td>\n",
       "      <td>0.080000</td>\n",
       "      <td>0.000000</td>\n",
       "      <td>0.700000</td>\n",
       "      <td>0.012000</td>\n",
       "      <td>1.000000</td>\n",
       "      <td>6.000000</td>\n",
       "      <td>0.987420</td>\n",
       "      <td>2.740000</td>\n",
       "      <td>0.220000</td>\n",
       "      <td>8.000000</td>\n",
       "      <td>3.000000</td>\n",
       "    </tr>\n",
       "    <tr>\n",
       "      <th>25%</th>\n",
       "      <td>6.600000</td>\n",
       "      <td>0.260000</td>\n",
       "      <td>0.210000</td>\n",
       "      <td>1.900000</td>\n",
       "      <td>0.043000</td>\n",
       "      <td>12.000000</td>\n",
       "      <td>37.000000</td>\n",
       "      <td>0.993480</td>\n",
       "      <td>3.140000</td>\n",
       "      <td>0.460000</td>\n",
       "      <td>9.500000</td>\n",
       "      <td>5.000000</td>\n",
       "    </tr>\n",
       "    <tr>\n",
       "      <th>50%</th>\n",
       "      <td>7.200000</td>\n",
       "      <td>0.360000</td>\n",
       "      <td>0.300000</td>\n",
       "      <td>2.400000</td>\n",
       "      <td>0.059000</td>\n",
       "      <td>22.000000</td>\n",
       "      <td>89.000000</td>\n",
       "      <td>0.995725</td>\n",
       "      <td>3.240000</td>\n",
       "      <td>0.550000</td>\n",
       "      <td>10.300000</td>\n",
       "      <td>6.000000</td>\n",
       "    </tr>\n",
       "    <tr>\n",
       "      <th>75%</th>\n",
       "      <td>8.200000</td>\n",
       "      <td>0.530000</td>\n",
       "      <td>0.400000</td>\n",
       "      <td>6.100000</td>\n",
       "      <td>0.080000</td>\n",
       "      <td>35.000000</td>\n",
       "      <td>136.000000</td>\n",
       "      <td>0.997400</td>\n",
       "      <td>3.360000</td>\n",
       "      <td>0.650000</td>\n",
       "      <td>11.200000</td>\n",
       "      <td>6.000000</td>\n",
       "    </tr>\n",
       "    <tr>\n",
       "      <th>max</th>\n",
       "      <td>15.900000</td>\n",
       "      <td>1.580000</td>\n",
       "      <td>1.000000</td>\n",
       "      <td>31.600000</td>\n",
       "      <td>0.611000</td>\n",
       "      <td>289.000000</td>\n",
       "      <td>440.000000</td>\n",
       "      <td>1.010300</td>\n",
       "      <td>4.010000</td>\n",
       "      <td>2.000000</td>\n",
       "      <td>14.900000</td>\n",
       "      <td>9.000000</td>\n",
       "    </tr>\n",
       "  </tbody>\n",
       "</table>\n",
       "</div>"
      ],
      "text/plain": [
       "       acidez_fixa  acidez_volatil  acido_citrico  \\\n",
       "count  3000.000000     3000.000000    3000.000000   \n",
       "mean      7.575400        0.404197       0.300483   \n",
       "std       1.556448        0.191077       0.164065   \n",
       "min       3.800000        0.080000       0.000000   \n",
       "25%       6.600000        0.260000       0.210000   \n",
       "50%       7.200000        0.360000       0.300000   \n",
       "75%       8.200000        0.530000       0.400000   \n",
       "max      15.900000        1.580000       1.000000   \n",
       "\n",
       "       concentracao_residual_acucar     cloretos  dioxido_de_enxofre_livre  \\\n",
       "count                   3000.000000  3000.000000               3000.000000   \n",
       "mean                       4.510533     0.066739                 25.414333   \n",
       "std                        4.163818     0.042893                 17.341974   \n",
       "min                        0.700000     0.012000                  1.000000   \n",
       "25%                        1.900000     0.043000                 12.000000   \n",
       "50%                        2.400000     0.059000                 22.000000   \n",
       "75%                        6.100000     0.080000                 35.000000   \n",
       "max                       31.600000     0.611000                289.000000   \n",
       "\n",
       "       dioxido_de_enxofre_total    densidade           pH     sulfatos  \\\n",
       "count               3000.000000  3000.000000  3000.000000  3000.000000   \n",
       "mean                  92.187833     0.995376     3.248700     0.572683   \n",
       "std                   59.689784     0.002828     0.162437     0.169422   \n",
       "min                    6.000000     0.987420     2.740000     0.220000   \n",
       "25%                   37.000000     0.993480     3.140000     0.460000   \n",
       "50%                   89.000000     0.995725     3.240000     0.550000   \n",
       "75%                  136.000000     0.997400     3.360000     0.650000   \n",
       "max                  440.000000     1.010300     4.010000     2.000000   \n",
       "\n",
       "            alcool    qualidade  \n",
       "count  3000.000000  3000.000000  \n",
       "mean     10.484184     5.747667  \n",
       "std       1.160437     0.860373  \n",
       "min       8.000000     3.000000  \n",
       "25%       9.500000     5.000000  \n",
       "50%      10.300000     6.000000  \n",
       "75%      11.200000     6.000000  \n",
       "max      14.900000     9.000000  "
      ]
     },
     "execution_count": 6,
     "metadata": {},
     "output_type": "execute_result"
    }
   ],
   "source": [
    "#Explorando as principais estatísticas para variáveis numéricas\n",
    "df.describe()"
   ]
  },
  {
   "cell_type": "code",
   "execution_count": 7,
   "metadata": {
    "collapsed": true
   },
   "outputs": [
    {
     "data": {
      "text/plain": [
       "['tinto', 'branco']"
      ]
     },
     "execution_count": 7,
     "metadata": {},
     "output_type": "execute_result"
    }
   ],
   "source": [
    "# Lista dos valores únicos da variável tipo\n",
    "list(df['tipo'].unique())"
   ]
  },
  {
   "cell_type": "code",
   "execution_count": 8,
   "metadata": {
    "collapsed": true
   },
   "outputs": [
    {
     "data": {
      "text/plain": [
       "branco    1500\n",
       "tinto     1500\n",
       "Name: tipo, dtype: int64"
      ]
     },
     "execution_count": 8,
     "metadata": {},
     "output_type": "execute_result"
    }
   ],
   "source": [
    "# Observando a frequência de cada classe para a variável dependente 'tipo'\n",
    "df['tipo'].value_counts()"
   ]
  },
  {
   "cell_type": "code",
   "execution_count": 9,
   "metadata": {},
   "outputs": [
    {
     "data": {
      "text/plain": [
       "False"
      ]
     },
     "execution_count": 9,
     "metadata": {},
     "output_type": "execute_result"
    }
   ],
   "source": [
    "# Vendo se há algum missing na base de dados\n",
    "df.isnull().values.any()"
   ]
  },
  {
   "cell_type": "markdown",
   "metadata": {},
   "source": [
    "Retorna um booleano. Se o resultado for True, existe missing na base de dados. Se for False, não existe missing na base de dados."
   ]
  },
  {
   "cell_type": "code",
   "execution_count": 10,
   "metadata": {
    "collapsed": true
   },
   "outputs": [
    {
     "data": {
      "text/plain": [
       "<AxesSubplot:xlabel='tipo', ylabel='count'>"
      ]
     },
     "execution_count": 10,
     "metadata": {},
     "output_type": "execute_result"
    },
    {
     "data": {
      "image/png": "[encoded data removed]",
      "text/plain": [
       "<Figure size 432x288 with 1 Axes>"
      ]
     },
     "metadata": {
      "needs_background": "light"
     },
     "output_type": "display_data"
    }
   ],
   "source": [
    "# Gráfico de colunas para a variável dependente tipo\n",
    "sns.countplot(x='tipo', data=df)"
   ]
  },
  {
   "cell_type": "code",
   "execution_count": 11,
   "metadata": {
    "collapsed": true
   },
   "outputs": [
    {
     "data": {
      "image/png": "[encoded data removed]",
      "text/plain": [
       "<Figure size 432x288 with 1 Axes>"
      ]
     },
     "metadata": {
      "needs_background": "light"
     },
     "output_type": "display_data"
    },
    {
     "data": {
      "image/png": "[encoded data removed]",
      "text/plain": [
       "<Figure size 432x288 with 1 Axes>"
      ]
     },
     "metadata": {
      "needs_background": "light"
     },
     "output_type": "display_data"
    },
    {
     "data": {
      "image/png": "[encoded data removed]",
      "text/plain": [
       "<Figure size 432x288 with 1 Axes>"
      ]
     },
     "metadata": {
      "needs_background": "light"
     },
     "output_type": "display_data"
    },
    {
     "data": {
      "image/png": "[encoded data removed]",
      "text/plain": [
       "<Figure size 432x288 with 1 Axes>"
      ]
     },
     "metadata": {
      "needs_background": "light"
     },
     "output_type": "display_data"
    },
    {
     "data": {
      "image/png": "[encoded data removed]",
      "text/plain": [
       "<Figure size 432x288 with 1 Axes>"
      ]
     },
     "metadata": {
      "needs_background": "light"
     },
     "output_type": "display_data"
    },
    {
     "data": {
      "image/png": "[encoded data removed]",
      "text/plain": [
       "<Figure size 432x288 with 1 Axes>"
      ]
     },
     "metadata": {
      "needs_background": "light"
     },
     "output_type": "display_data"
    },
    {
     "data": {
      "image/png": "[encoded data removed]",
      "text/plain": [
       "<Figure size 432x288 with 1 Axes>"
      ]
     },
     "metadata": {
      "needs_background": "light"
     },
     "output_type": "display_data"
    },
    {
     "data": {
      "image/png": "[encoded data removed]",
      "text/plain": [
       "<Figure size 432x288 with 1 Axes>"
      ]
     },
     "metadata": {
      "needs_background": "light"
     },
     "output_type": "display_data"
    },
    {
     "data": {
      "image/png": "[encoded data removed]",
      "text/plain": [
       "<Figure size 432x288 with 1 Axes>"
      ]
     },
     "metadata": {
      "needs_background": "light"
     },
     "output_type": "display_data"
    },
    {
     "data": {
      "image/png": "[encoded data removed]",
      "text/plain": [
       "<Figure size 432x288 with 1 Axes>"
      ]
     },
     "metadata": {
      "needs_background": "light"
     },
     "output_type": "display_data"
    },
    {
     "data": {
      "image/png": "[encoded data removed]",
      "text/plain": [
       "<Figure size 432x288 with 1 Axes>"
      ]
     },
     "metadata": {
      "needs_background": "light"
     },
     "output_type": "display_data"
    }
   ],
   "source": [
    "lista_colunas_num = df.select_dtypes(include=['float64']).columns.values\n",
    "# Boxplots mostrando os valores para cada variável do tipo float64 de acordo com o tipo de vinho\n",
    "for nome_coluna in lista_colunas_num:\n",
    "    plt.figure()\n",
    "    sns.boxplot(x=nome_coluna,y='tipo',data=df)"
   ]
  },
  {
   "cell_type": "code",
   "execution_count": 12,
   "metadata": {
    "collapsed": true
   },
   "outputs": [
    {
     "data": {
      "text/plain": [
       "<AxesSubplot:xlabel='qualidade', ylabel='count'>"
      ]
     },
     "execution_count": 12,
     "metadata": {},
     "output_type": "execute_result"
    },
    {
     "data": {
      "image/png": "[encoded data removed]",
      "text/plain": [
       "<Figure size 432x288 with 1 Axes>"
      ]
     },
     "metadata": {
      "needs_background": "light"
     },
     "output_type": "display_data"
    }
   ],
   "source": [
    "# Gráfico de colunas mostrando os valores da qualidade de acordo com o tipo de vinho\n",
    "sns.countplot(x='qualidade', hue='tipo', data=df)"
   ]
  },
  {
   "cell_type": "markdown",
   "metadata": {},
   "source": [
    "Percebe-se que a acidez, as quantidades dos cloretos e sulfatos, a densidade e o PH são geralmente maiores para vinhos tintos. Já a quantidade de dióxido de enxofre e a concentração residual de açucar são geralmente maiores para vinhos brancos. Além disso, percebe-se que os vinhos brancos têm mais qualidade que os vinhos tintos em geral."
   ]
  },
  {
   "cell_type": "markdown",
   "metadata": {},
   "source": [
    "## Preparação dos dados de treinamento"
   ]
  },
  {
   "cell_type": "code",
   "execution_count": 13,
   "metadata": {},
   "outputs": [],
   "source": [
    "#Ajustando a varíavel dependente tipo: de valores binários para númericos\n",
    "df.replace(to_replace={'tinto': 0, 'branco': 1}, inplace=True)"
   ]
  },
  {
   "cell_type": "code",
   "execution_count": 14,
   "metadata": {},
   "outputs": [],
   "source": [
    "# Separando os rótulos\n",
    "X = df.drop(axis=1, labels=['tipo']).values\n",
    "y = df['tipo']"
   ]
  },
  {
   "cell_type": "code",
   "execution_count": 15,
   "metadata": {},
   "outputs": [],
   "source": [
    "# Tarefa de classificação: Classificação de vinho do tipo ‘tinto’ ou ‘branco’"
   ]
  },
  {
   "cell_type": "markdown",
   "metadata": {},
   "source": [
    "## Separação dos conjuntos de treino e teste"
   ]
  },
  {
   "cell_type": "code",
   "execution_count": 16,
   "metadata": {},
   "outputs": [],
   "source": [
    "# Importando o pacote sklearn.model_selection para a divisão dos dados\n",
    "from sklearn.model_selection import train_test_split"
   ]
  },
  {
   "cell_type": "code",
   "execution_count": 17,
   "metadata": {},
   "outputs": [],
   "source": [
    "# Divisão preliminar dos dados em conjunto de treino e teste\n",
    "X_treino, X_teste, y_treino, y_teste = train_test_split(X, y, test_size=0.2, shuffle=True, random_state=103)"
   ]
  },
  {
   "cell_type": "code",
   "execution_count": 18,
   "metadata": {
    "collapsed": true
   },
   "outputs": [
    {
     "name": "stdout",
     "output_type": "stream",
     "text": [
      "shapes:\n",
      "X_treino shape =  (2400, 12)\n",
      "X_teste shape =  (600, 12)\n",
      "y_treino shape =  (2400,)\n",
      "y_teste shape =  (600,)\n"
     ]
    }
   ],
   "source": [
    "# Observando o número de linhas e colunas para os conjuntos de treino e teste\n",
    "print('shapes:')\n",
    "print(\"X_treino shape = \", X_treino.shape) \n",
    "print(\"X_teste shape = \", X_teste.shape) \n",
    "print(\"y_treino shape = \", y_treino.shape) \n",
    "print(\"y_teste shape = \", y_teste.shape)"
   ]
  },
  {
   "cell_type": "code",
   "execution_count": 19,
   "metadata": {},
   "outputs": [],
   "source": [
    "# Carregando o pacote para normalizar os dados\n",
    "from sklearn.preprocessing import StandardScaler"
   ]
  },
  {
   "cell_type": "code",
   "execution_count": 20,
   "metadata": {},
   "outputs": [],
   "source": [
    "scaler = StandardScaler()"
   ]
  },
  {
   "cell_type": "markdown",
   "metadata": {},
   "source": [
    "Para normalizar os dados foi usado o método z-score"
   ]
  },
  {
   "cell_type": "code",
   "execution_count": 21,
   "metadata": {},
   "outputs": [],
   "source": [
    "# Normalização dos dados de treino e teste\n",
    "X_treino = scaler.fit_transform(X_treino)\n",
    "X_teste = scaler.fit_transform(X_teste)"
   ]
  },
  {
   "cell_type": "markdown",
   "metadata": {},
   "source": [
    "## Treinamento do modelo"
   ]
  },
  {
   "cell_type": "code",
   "execution_count": 22,
   "metadata": {},
   "outputs": [],
   "source": [
    "# Inicialização do classificador\n",
    "from sklearn import svm"
   ]
  },
  {
   "cell_type": "code",
   "execution_count": 23,
   "metadata": {},
   "outputs": [],
   "source": [
    "clf = svm.SVC(kernel='linear')"
   ]
  },
  {
   "cell_type": "code",
   "execution_count": 24,
   "metadata": {},
   "outputs": [
    {
     "data": {
      "text/plain": [
       "SVC(kernel='linear')"
      ]
     },
     "execution_count": 24,
     "metadata": {},
     "output_type": "execute_result"
    }
   ],
   "source": [
    "clf.fit(X_treino, y_treino)"
   ]
  },
  {
   "cell_type": "markdown",
   "metadata": {},
   "source": [
    "## Avaliação do modelo"
   ]
  },
  {
   "cell_type": "code",
   "execution_count": 25,
   "metadata": {},
   "outputs": [],
   "source": [
    "#Predições para o base de teste\n",
    "y_pred = clf.predict(X_teste)"
   ]
  },
  {
   "cell_type": "code",
   "execution_count": 26,
   "metadata": {},
   "outputs": [],
   "source": [
    "#Importação do módulo com as métricas para o cálculo das mesmas\n",
    "from sklearn import metrics"
   ]
  },
  {
   "cell_type": "code",
   "execution_count": 41,
   "metadata": {},
   "outputs": [
    {
     "name": "stdout",
     "output_type": "stream",
     "text": [
      "Acurácia: 0.992\n",
      "Precisão: 0.990\n",
      "Recall: 0.993\n"
     ]
    }
   ],
   "source": [
    "# Cálculo da acurácia, da precisão e do recall\n",
    "print(\"Acurácia: %0.3f\" % (metrics.accuracy_score(y_teste, y_pred)) )\n",
    "print(\"Precisão: %0.3f\" % (metrics.precision_score(y_teste, y_pred)) )\n",
    "print(\"Recall: %0.3f\" % (metrics.recall_score(y_teste, y_pred)) )"
   ]
  },
  {
   "cell_type": "markdown",
   "metadata": {},
   "source": [
    "#### Validação Cruzada"
   ]
  },
  {
   "cell_type": "code",
   "execution_count": 29,
   "metadata": {},
   "outputs": [],
   "source": [
    "#Importação do pacote para a realização da validação cruzada\n",
    "from sklearn.model_selection import cross_val_score"
   ]
  },
  {
   "cell_type": "code",
   "execution_count": 37,
   "metadata": {},
   "outputs": [
    {
     "name": "stdout",
     "output_type": "stream",
     "text": [
      "Wall time: 20.7 s\n"
     ]
    }
   ],
   "source": [
    "#Cálculo das métricas usando o método de validação cruzada\n",
    "%%time\n",
    "scores_acur = cross_val_score(clf, X, y, cv=5, scoring='accuracy', n_jobs=3)\n",
    "scores_prec = cross_val_score(clf, X, y, cv=5, scoring='precision', n_jobs=3)\n",
    "scores_rec = cross_val_score(clf, X, y, cv=5, scoring='recall', n_jobs=3)"
   ]
  },
  {
   "cell_type": "code",
   "execution_count": 42,
   "metadata": {},
   "outputs": [
    {
     "name": "stdout",
     "output_type": "stream",
     "text": [
      "Accuracy: 0.984 (+/- 0.01)\n",
      "Accuracy: 0.982 (+/- 0.01)\n",
      "Accuracy: 0.987 (+/- 0.02)\n"
     ]
    }
   ],
   "source": [
    "print(\"Accuracy: %0.3f (+/- %0.2f)\" % (scores_acur.mean(), scores_acur.std() * 2 ))\n",
    "print(\"Accuracy: %0.3f (+/- %0.2f)\" % (scores_prec.mean(), scores_prec.std() * 2 ))\n",
    "print(\"Accuracy: %0.3f (+/- %0.2f)\" % (scores_rec.mean(), scores_rec.std() * 2 ))"
   ]
  },
  {
   "cell_type": "markdown",
   "metadata": {},
   "source": [
    "Não houve melhora nas métricas de classificação usando o método de validação cruzada."
   ]
  },
  {
   "cell_type": "markdown",
   "metadata": {},
   "source": [
    "#### Grid Search"
   ]
  },
  {
   "cell_type": "code",
   "execution_count": 43,
   "metadata": {},
   "outputs": [],
   "source": [
    "# #Importação do pacote para a uso do método Grid Search para otimizar parâmetros\n",
    "from sklearn.model_selection import GridSearchCV"
   ]
  },
  {
   "cell_type": "code",
   "execution_count": 53,
   "metadata": {},
   "outputs": [],
   "source": [
    "#Definindo os parâmetros que seram testados\n",
    "parametros = {'kernel': ['rbf','linear','poly']}"
   ]
  },
  {
   "cell_type": "code",
   "execution_count": 54,
   "metadata": {},
   "outputs": [],
   "source": [
    "clf_grid = svm.SVC()"
   ]
  },
  {
   "cell_type": "code",
   "execution_count": 55,
   "metadata": {},
   "outputs": [],
   "source": [
    "gs = GridSearchCV(clf_grid, parametros, n_jobs=3)"
   ]
  },
  {
   "cell_type": "code",
   "execution_count": 57,
   "metadata": {
    "collapsed": true
   },
   "outputs": [
    {
     "name": "stdout",
     "output_type": "stream",
     "text": [
      "Wall time: 8.53 s\n"
     ]
    },
    {
     "data": {
      "text/plain": [
       "GridSearchCV(estimator=SVC(), n_jobs=3,\n",
       "             param_grid={'kernel': ['rbf', 'linear', 'poly']})"
      ]
     },
     "execution_count": 57,
     "metadata": {},
     "output_type": "execute_result"
    }
   ],
   "source": [
    "# Gerando o modelo com o método Grid Search\n",
    "%%time\n",
    "gs.fit(X_treino, y_treino)"
   ]
  },
  {
   "cell_type": "code",
   "execution_count": 58,
   "metadata": {
    "collapsed": true
   },
   "outputs": [
    {
     "data": {
      "text/plain": [
       "{'mean_fit_time': array([0.08032217, 0.07225981, 0.10323   ]),\n",
       " 'std_fit_time': array([0.01142257, 0.01323   , 0.02491306]),\n",
       " 'mean_score_time': array([0.01179385, 0.00479856, 0.01229215]),\n",
       " 'std_score_time': array([0.00159729, 0.0014696 , 0.00288655]),\n",
       " 'param_kernel': masked_array(data=['rbf', 'linear', 'poly'],\n",
       "              mask=[False, False, False],\n",
       "        fill_value='?',\n",
       "             dtype=object),\n",
       " 'params': [{'kernel': 'rbf'}, {'kernel': 'linear'}, {'kernel': 'poly'}],\n",
       " 'split0_test_score': array([0.99375   , 0.99583333, 0.99583333]),\n",
       " 'split1_test_score': array([0.99375   , 0.99166667, 0.99166667]),\n",
       " 'split2_test_score': array([0.9875    , 0.98541667, 0.9875    ]),\n",
       " 'split3_test_score': array([0.99375, 0.9875 , 0.99375]),\n",
       " 'split4_test_score': array([0.99583333, 0.99375   , 0.99166667]),\n",
       " 'mean_test_score': array([0.99291667, 0.99083333, 0.99208333]),\n",
       " 'std_test_score': array([0.00282597, 0.00386401, 0.00276385]),\n",
       " 'rank_test_score': array([1, 3, 2])}"
      ]
     },
     "execution_count": 58,
     "metadata": {},
     "output_type": "execute_result"
    }
   ],
   "source": [
    "# Observando os resultados\n",
    "gs.cv_results_"
   ]
  },
  {
   "cell_type": "code",
   "execution_count": 60,
   "metadata": {},
   "outputs": [
    {
     "data": {
      "text/plain": [
       "0.9929166666666667"
      ]
     },
     "execution_count": 60,
     "metadata": {},
     "output_type": "execute_result"
    }
   ],
   "source": [
    "# Observando o valor médio de desempenho do melhor estimador\n",
    "gs.best_score_"
   ]
  },
  {
   "cell_type": "code",
   "execution_count": 61,
   "metadata": {},
   "outputs": [
    {
     "data": {
      "text/plain": [
       "{'kernel': 'rbf'}"
      ]
     },
     "execution_count": 61,
     "metadata": {},
     "output_type": "execute_result"
    }
   ],
   "source": [
    "# Observando a configuração de parâmetros que deu os melhores resultados nos dados de teste\n",
    "gs.best_params_"
   ]
  },
  {
   "cell_type": "markdown",
   "metadata": {},
   "source": [
    "Percebe-se que a mudança do parâmetro kernel de linear para rbf também não trouxe uma melhora significativa para resultados nos dados de teste. "
   ]
  }
 ],
 "metadata": {
  "kernelspec": {
   "display_name": "Python 3",
   "language": "python",
   "name": "python3"
  },
  "language_info": {
   "codemirror_mode": {
    "name": "ipython",
    "version": 3
   },
   "file_extension": ".py",
   "mimetype": "text/x-python",
   "name": "python",
   "nbconvert_exporter": "python",
   "pygments_lexer": "ipython3",
   "version": "3.8.5"
  }
 },
 "nbformat": 4,
 "nbformat_minor": 4
}
